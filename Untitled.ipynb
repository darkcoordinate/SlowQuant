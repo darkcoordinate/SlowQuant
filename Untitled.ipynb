{
 "cells": [
  {
   "cell_type": "code",
   "execution_count": 1,
   "id": "96f3d6db",
   "metadata": {
    "scrolled": false
   },
   "outputs": [
    {
     "name": "stdout",
     "output_type": "stream",
     "text": [
      "Iter           E_HF              DeltaE           RMS_D    \n",
      "   1       -0.832440683080     4.713622e-01    0.000000e+00\n",
      "   2       -0.832440683080     0.000000e+00    0.000000e+00\n",
      "### Parameters information:\n",
      "### Number kappa: 1\n",
      "### Number theta1: 0\n",
      "### Number theta2: 0\n",
      "### Number theta3: 0\n",
      "### Number theta4: 0\n",
      "### Number theta5: 0\n",
      "### Number theta6: 0\n",
      "### Total parameters: 1\n",
      "\n",
      "Iteration # | Iteration time [s] | Electronic energy [Hartree]\n",
      "     1      |         0.00       |       -0.832440683080      \n",
      "E_tot: -0.6560482667859117 Hartree\n",
      "Gs 0\n",
      "qs 1\n",
      "idx, max(abs(grad orb)): 0 0.0\n",
      "Smallest Hessian eigenvalue: 0.02232330917336628\n",
      "Smallest diagonal element in the metric: 1.0000000000000002\n",
      "self-consistent operators\n",
      "Excitation # | Excitation energy [Hartree] | Excitation energy [eV] | Oscillator strengths\n",
      "     1       |           0.117716          |        3.203225        |       0.239234      \n",
      "\n",
      "\n",
      "Gs 0\n",
      "qs 1\n",
      "idx, max(abs(grad orb)): 0 0.0\n",
      "Smallest Hessian eigenvalue: 0.02232330917336628\n",
      "Smallest diagonal element in the metric: 1.0000000000000002\n",
      "projsc operators\n",
      "Excitation # | Excitation energy [Hartree] | Excitation energy [eV] | Oscillator strengths\n",
      "     1       |           0.117716          |        3.203225        |       0.239234      \n",
      "\n",
      "Gs 0\n",
      "qs 1\n",
      "idx, max(abs(grad orb)): 0 0.0\n",
      "Smallest Hessian eigenvalue: 0.02232330917336628\n",
      "Smallest diagonal element in the metric: 1.0000000000000002\n",
      "projsc operators (sanity check)\n",
      "Excitation # | Excitation energy [Hartree] | Excitation energy [eV] | Oscillator strengths\n",
      "     1       |           0.117716          |        3.203225        |       0.239234      \n",
      "\n",
      "0\n",
      "Gs 0\n",
      "qs 1\n",
      "idx, max(abs(grad orb)): 0 0.0\n",
      "Smallest Hessian eigenvalue: 0.321534846331874\n",
      "Smallest diagonal element in the metric: 1.0000000000000002\n",
      "projsc operators (also orb)\n",
      "Excitation # | Excitation energy [Hartree] | Excitation energy [eV] | Oscillator strengths\n",
      "     1       |           0.321535          |        8.749416        |       3.445814      \n",
      "\n"
     ]
    }
   ],
   "source": [
    "import slowquant.SlowQuant as sq\n",
    "from slowquant.unitary_coupled_cluster.linear_response import LinearResponseUCC\n",
    "from slowquant.unitary_coupled_cluster.ucc_wavefunction import WaveFunctionUCC\n",
    "import numpy as np\n",
    "\n",
    "SQobj = sq.SlowQuant()\n",
    "SQobj.set_molecule(\n",
    "    \"\"\"H  0.0   0.0  0.0;\n",
    "       H  3.0  0.0  0.0;\"\"\",\n",
    "    distance_unit=\"angstrom\",\n",
    ")\n",
    "SQobj.set_basis_set(\"STO-3G\")\n",
    "SQobj.init_hartree_fock()\n",
    "SQobj.hartree_fock.run_restricted_hartree_fock()\n",
    "h_core = SQobj.integral.kinetic_energy_matrix + SQobj.integral.nuclear_attraction_matrix\n",
    "g_eri = SQobj.integral.electron_repulsion_tensor\n",
    "WF = WaveFunctionUCC(\n",
    "    SQobj.molecule.number_bf * 2,\n",
    "    SQobj.molecule.number_electrons,\n",
    "    (2, 1),\n",
    "    SQobj.hartree_fock.mo_coeff,\n",
    "    h_core,\n",
    "    g_eri,\n",
    ")\n",
    "dipole_integrals = (\n",
    "    SQobj.integral.get_multipole_matrix([1, 0, 0]),\n",
    "    SQobj.integral.get_multipole_matrix([0, 1, 0]),\n",
    "    SQobj.integral.get_multipole_matrix([0, 0, 1]),\n",
    ")\n",
    "\n",
    "WF.run_ucc(\"SD\", True)\n",
    "print(f\"E_tot: {WF.energy_elec+SQobj.molecule.nuclear_repulsion} Hartree\")\n",
    "\n",
    "LR = LinearResponseUCC(WF, excitations=\"SD\")\n",
    "LR.calc_excitation_energies()\n",
    "print(\"self-consistent operators\")\n",
    "print(LR.get_nice_output(dipole_integrals))\n",
    "print(\"\")\n",
    "\n",
    "LR = LinearResponseUCC(WF, excitations=\"SD\", do_selfconsistent_operators=False, do_projected_selfconsistent_operators=True)\n",
    "LR.calc_excitation_energies()\n",
    "print(\"projsc operators\")\n",
    "print(LR.get_nice_output(dipole_integrals))\n",
    "\n",
    "LR2 = LinearResponseUCC(WF, excitations=\"SD\", do_selfconsistent_operators=True, do_projected_operators=True)\n",
    "LR2.calc_excitation_energies()\n",
    "print(\"projsc operators (sanity check)\")\n",
    "print(LR2.get_nice_output(dipole_integrals))\n",
    "\n",
    "LR3 = LinearResponseUCC(WF, excitations=\"SD\", do_selfconsistent_operators=True, do_projected_operators=True, do_prosc_orb=True)\n",
    "LR3.calc_excitation_energies()\n",
    "print(\"projsc operators (also orb)\")\n",
    "print(LR3.get_nice_output(dipole_integrals))"
   ]
  },
  {
   "cell_type": "code",
   "execution_count": 2,
   "id": "c76c9cee",
   "metadata": {},
   "outputs": [
    {
     "name": "stdout",
     "output_type": "stream",
     "text": [
      "[[1.]]\n"
     ]
    }
   ],
   "source": [
    "with np.printoptions(precision=3, suppress=True):\n",
    "    print(LR.V)"
   ]
  },
  {
   "cell_type": "code",
   "execution_count": 3,
   "id": "0e22b2da",
   "metadata": {},
   "outputs": [
    {
     "name": "stdout",
     "output_type": "stream",
     "text": [
      "[[1.]]\n"
     ]
    }
   ],
   "source": [
    "with np.printoptions(precision=3, suppress=True):\n",
    "    print(LR2.V)"
   ]
  },
  {
   "cell_type": "code",
   "execution_count": 4,
   "id": "0816abd1",
   "metadata": {},
   "outputs": [
    {
     "name": "stdout",
     "output_type": "stream",
     "text": [
      "[[0.]]\n"
     ]
    }
   ],
   "source": [
    "with np.printoptions(precision=3, suppress=True):\n",
    "    print(LR.W)"
   ]
  },
  {
   "cell_type": "code",
   "execution_count": 5,
   "id": "7a3b7535",
   "metadata": {},
   "outputs": [
    {
     "name": "stdout",
     "output_type": "stream",
     "text": [
      "[[0.]]\n"
     ]
    }
   ],
   "source": [
    "with np.printoptions(precision=3, suppress=True):\n",
    "    print(LR2.W)"
   ]
  },
  {
   "cell_type": "code",
   "execution_count": 6,
   "id": "f5cc03a5",
   "metadata": {},
   "outputs": [
    {
     "name": "stdout",
     "output_type": "stream",
     "text": [
      "[[-0.299]]\n"
     ]
    }
   ],
   "source": [
    "with np.printoptions(precision=3, suppress=True):\n",
    "    print(LR.Q)"
   ]
  },
  {
   "cell_type": "code",
   "execution_count": 7,
   "id": "a77184d7",
   "metadata": {},
   "outputs": [
    {
     "name": "stdout",
     "output_type": "stream",
     "text": [
      "[[-0.299]]\n"
     ]
    }
   ],
   "source": [
    "with np.printoptions(precision=3, suppress=True):\n",
    "    print(LR2.Q)"
   ]
  },
  {
   "cell_type": "code",
   "execution_count": 8,
   "id": "5819eb14",
   "metadata": {},
   "outputs": [
    {
     "name": "stdout",
     "output_type": "stream",
     "text": [
      "[[0.322]]\n"
     ]
    }
   ],
   "source": [
    "with np.printoptions(precision=3, suppress=True):\n",
    "    print(LR.M)"
   ]
  },
  {
   "cell_type": "code",
   "execution_count": 9,
   "id": "8a5e9aae",
   "metadata": {},
   "outputs": [
    {
     "name": "stdout",
     "output_type": "stream",
     "text": [
      "[[0.322]]\n"
     ]
    }
   ],
   "source": [
    "with np.printoptions(precision=3, suppress=True):\n",
    "    print(LR2.M)"
   ]
  },
  {
   "cell_type": "code",
   "execution_count": 10,
   "id": "0864763b",
   "metadata": {},
   "outputs": [
    {
     "name": "stdout",
     "output_type": "stream",
     "text": [
      "[[0.]]\n"
     ]
    }
   ],
   "source": [
    "with np.printoptions(precision=3, suppress=True):\n",
    "    print(LR3.Q)"
   ]
  },
  {
   "cell_type": "code",
   "execution_count": 11,
   "id": "ec61b449",
   "metadata": {},
   "outputs": [
    {
     "name": "stdout",
     "output_type": "stream",
     "text": [
      "[[0.322]]\n"
     ]
    }
   ],
   "source": [
    "with np.printoptions(precision=3, suppress=True):\n",
    "    print(LR3.M)"
   ]
  },
  {
   "cell_type": "code",
   "execution_count": 12,
   "id": "a9060894",
   "metadata": {},
   "outputs": [
    {
     "name": "stdout",
     "output_type": "stream",
     "text": [
      "[[0.]]\n"
     ]
    }
   ],
   "source": [
    "with np.printoptions(precision=3, suppress=True):\n",
    "    print(LR3.W)"
   ]
  },
  {
   "cell_type": "code",
   "execution_count": 13,
   "id": "f10b1d95",
   "metadata": {},
   "outputs": [
    {
     "name": "stdout",
     "output_type": "stream",
     "text": [
      "[[1.]]\n"
     ]
    }
   ],
   "source": [
    "with np.printoptions(precision=3, suppress=True):\n",
    "    print(LR3.V)"
   ]
  },
  {
   "cell_type": "code",
   "execution_count": 14,
   "id": "859298e1",
   "metadata": {},
   "outputs": [
    {
     "data": {
      "text/plain": [
       "array([[1.]])"
      ]
     },
     "execution_count": 14,
     "metadata": {},
     "output_type": "execute_result"
    }
   ],
   "source": [
    "LR2.V"
   ]
  },
  {
   "cell_type": "code",
   "execution_count": null,
   "id": "194ebe05",
   "metadata": {},
   "outputs": [],
   "source": []
  },
  {
   "cell_type": "code",
   "execution_count": null,
   "id": "6d2d5cfe",
   "metadata": {},
   "outputs": [],
   "source": []
  }
 ],
 "metadata": {
  "kernelspec": {
   "display_name": "Python 3 (ipykernel)",
   "language": "python",
   "name": "python3"
  },
  "language_info": {
   "codemirror_mode": {
    "name": "ipython",
    "version": 3
   },
   "file_extension": ".py",
   "mimetype": "text/x-python",
   "name": "python",
   "nbconvert_exporter": "python",
   "pygments_lexer": "ipython3",
   "version": "3.11.4"
  }
 },
 "nbformat": 4,
 "nbformat_minor": 5
}
